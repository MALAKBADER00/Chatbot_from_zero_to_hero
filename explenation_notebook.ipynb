{
 "cells": [
  {
   "cell_type": "code",
   "execution_count": 48,
   "metadata": {},
   "outputs": [],
   "source": [
    "from langchain_community.document_loaders import PyPDFLoader\n",
    "from langchain_community.document_loaders import PyPDFDirectoryLoader"
   ]
  },
  {
   "cell_type": "code",
   "execution_count": 49,
   "metadata": {},
   "outputs": [],
   "source": [
    "#loader =PyPDFLoader(\"data/W1L1_Ch1 Part1.pdf\")\n",
    "loader =PyPDFDirectoryLoader(\"data/\")"
   ]
  },
  {
   "cell_type": "code",
   "execution_count": 50,
   "metadata": {},
   "outputs": [],
   "source": [
    "pages = loader.load_and_split()"
   ]
  },
  {
   "cell_type": "code",
   "execution_count": 51,
   "metadata": {},
   "outputs": [
    {
     "data": {
      "text/plain": [
       "Document(metadata={'producer': 'Microsoft® PowerPoint® for Microsoft 365', 'creator': 'Microsoft® PowerPoint® for Microsoft 365', 'creationdate': '2025-02-15T10:24:26-08:00', 'title': 'Figures-Chapter', 'author': 'Ian Sommerville', 'moddate': '2025-02-15T10:24:26-08:00', 'source': 'data\\\\W2L2.pdf', 'total_pages': 27, 'page': 26, 'page_label': '27'}, page_content='Key points\\n\\uf0b2Processes should include activities to cope with change. \\nThis may involve a prototyping phase that helps avoid \\npoor decisions on requirements and design. \\n\\uf0b2Processes may be structured for iterative development \\nand delivery so that changes may be made without \\ndisrupting the system as a whole.\\n\\uf0b2The Rational Unified Process is a modern generic \\nprocess model that is organized into phases (inception, \\nelaboration, construction and transition) but separates \\nactivities (requirements, analysis and design, etc.) from \\nthese phases.\\n27Chapter 2 Software Processes')"
      ]
     },
     "execution_count": 51,
     "metadata": {},
     "output_type": "execute_result"
    }
   ],
   "source": [
    "pages[-1]"
   ]
  },
  {
   "cell_type": "code",
   "execution_count": 52,
   "metadata": {},
   "outputs": [
    {
     "name": "stdout",
     "output_type": "stream",
     "text": [
      "Product specification\n",
      "Generic products\n",
      "▪ The specification of what the software should do is owned by the \n",
      "software developer and decisions on software change are made \n",
      "by the developer.\n",
      "Customized products\n",
      "▪ The specification of what the software should do is owned by the \n",
      "customer for the software and they make decisions on software \n",
      "changes that are required.\n",
      "6\n",
      "\n",
      "\n",
      "\n",
      "Frequently asked questions about software \n",
      "engineering\n",
      "7\n",
      "Question Answer\n",
      "What is software? Computer programs and associated documentation. \n",
      "Software products may be developed for a particular \n",
      "customer or may be developed for a general market.\n",
      "What are the attributes of good software? Good software should deliver the required functionality \n",
      "and performance to the user and should be \n",
      "maintainable, dependable and usable.\n",
      "What is software engineering? Software engineering is an engineering discipline that is \n",
      "concerned with all aspects of software production.\n",
      "What are the fundamental software \n",
      "engineering activities?\n",
      "Software specification, software development, software \n",
      "validation and software evolution.\n",
      "What is the difference between software \n",
      "engineering and computer science?\n",
      "Computer science focuses on theory and fundamentals; \n",
      "software engineering is concerned with the practicalities \n",
      "of developing and delivering useful software.\n",
      "What is the difference between software \n",
      "engineering and system engineering?\n",
      "System engineering is concerned with all aspects of \n",
      "computer-based systems development including \n",
      "hardware, software and process engineering. Software \n",
      "engineering is part of this more general process.\n",
      "\n",
      "\n",
      "\n",
      "Frequently asked questions about software \n",
      "engineering\n",
      "Question Answer\n",
      "What are the key challenges facing \n",
      "software engineering?\n",
      "Coping with increasing diversity, demands for reduced \n",
      "delivery times and developing trustworthy software.\n",
      "What are the costs of software \n",
      "engineering?\n",
      "Roughly 60% of software costs are development costs, \n",
      "40% are testing costs. For custom software, evolution \n",
      "costs often exceed development costs.\n",
      "What are the best software engineering \n",
      "techniques and methods?\n",
      "While all software projects have to be professionally \n",
      "managed and developed, different techniques are \n",
      "appropriate for different types of system. For example, \n",
      "games should always be developed using a series of \n",
      "prototypes whereas safety critical control systems require \n",
      "a complete and analyzable specification to be developed. \n",
      "You can’t, therefore, say that one method is better than \n",
      "another.\n",
      "What differences has the web made to \n",
      "software engineering?\n",
      "The web has led to the availability of software services \n",
      "and the possibility of developing highly distributed service-\n",
      "based systems. Web-based systems development has led \n",
      "to important advances in programming languages and \n",
      "software reuse.\n",
      "8\n",
      "\n",
      "\n",
      "\n",
      "Essential attributes of good software\n",
      "9\n",
      "Product characteristic Description\n",
      "Maintainability Software should be written in such a way so that it can evolve to \n",
      "meet the changing needs of customers. This is a critical attribute \n",
      "because software change is an inevitable requirement of a \n",
      "changing business environment.\n",
      "Dependability and \n",
      "security\n",
      "Software dependability includes a range of characteristics \n",
      "including reliability, security and safety. Dependable software \n",
      "should not cause physical or economic damage in the event of \n",
      "system failure. Malicious users should not be  able to access or \n",
      "damage the system.\n",
      "Efficiency Software should not make wasteful use of system resources such \n",
      "as memory and processor cycles. Efficiency therefore includes \n",
      "responsiveness, processing time, memory utilisation, etc.\n",
      "Acceptability Software must be acceptable to the type of users for which it is \n",
      "designed. This means that it must be understandable, usable and \n",
      "compatible with other systems that they use.\n",
      "\n",
      "\n",
      "\n",
      "Software engineering\n",
      "Software engineering is an engineering discipline that is \n",
      "concerned with all aspects of software production from \n",
      "the early stages of system specification through to \n",
      "maintaining the system after it has gone into use.\n",
      "Engineering discipline\n",
      "▪ Using appropriate theories and methods to solve problems \n",
      "bearing in mind organizational and financial constraints.\n",
      "All aspects of software production\n",
      "▪ Not just technical process of development. Also project \n",
      "management and the development of tools, methods etc. to \n",
      "support software production.\n",
      "10\n",
      "\n",
      "\n",
      "\n"
     ]
    }
   ],
   "source": [
    "for i in range(5,10):\n",
    "    print(pages[i].page_content)\n",
    "    print('\\n\\n')"
   ]
  },
  {
   "cell_type": "code",
   "execution_count": 53,
   "metadata": {},
   "outputs": [],
   "source": [
    "from langchain.text_splitter import RecursiveCharacterTextSplitter\n",
    "text_splitter = RecursiveCharacterTextSplitter(chunk_size = 1000, chunk_overlap= 20 )\n",
    "documents = text_splitter.split_documents(pages)"
   ]
  },
  {
   "cell_type": "code",
   "execution_count": 54,
   "metadata": {},
   "outputs": [
    {
     "name": "stdout",
     "output_type": "stream",
     "text": [
      "104\n",
      "108\n"
     ]
    }
   ],
   "source": [
    "print(len(pages))\n",
    "print(len(documents))"
   ]
  },
  {
   "cell_type": "code",
   "execution_count": 55,
   "metadata": {},
   "outputs": [],
   "source": [
    "import os \n",
    "from dotenv import load_dotenv\n",
    "load_dotenv()\n",
    "\n",
    "OPENAI_API_KEY = os.getenv(\"OPENAI_API_KEY\")"
   ]
  },
  {
   "cell_type": "code",
   "execution_count": 56,
   "metadata": {},
   "outputs": [],
   "source": [
    "from langchain_openai import OpenAIEmbeddings\n",
    "embeddings = OpenAIEmbeddings(openai_api_type=OPENAI_API_KEY)"
   ]
  },
  {
   "cell_type": "code",
   "execution_count": 57,
   "metadata": {},
   "outputs": [],
   "source": [
    "import faiss\n",
    "from langchain_community.docstore.in_memory import InMemoryDocstore\n",
    "from langchain_community.vectorstores import FAISS\n",
    "\n",
    "index = faiss.IndexFlatL2(len(embeddings.embed_query(\"hello world\")))\n",
    "\n",
    "vector_store = FAISS(\n",
    "    embedding_function=embeddings,\n",
    "    index=index,\n",
    "    docstore=InMemoryDocstore(),\n",
    "    index_to_docstore_id={},\n",
    ")\n",
    "\n",
    "vector_store.save_local(\"faiss_index\")\n",
    "\n",
    "new_vector_store = FAISS.load_local(\n",
    "    \"faiss_index\", embeddings, allow_dangerous_deserialization=True\n",
    ")"
   ]
  },
  {
   "cell_type": "code",
   "execution_count": 58,
   "metadata": {},
   "outputs": [
    {
     "data": {
      "text/plain": [
       "['05055bb8-5580-4814-b1de-b37f54e2acb7',\n",
       " 'f08d6737-19c3-4705-b1fa-1bc1367ba758',\n",
       " '5f31c39b-0202-4f4d-a7c0-7c9b3e01518c',\n",
       " 'bfe6ad8c-be09-4dd6-aec8-212e590b6e59',\n",
       " '8f7f6d27-edcd-489e-9272-eb59b72aaefd',\n",
       " '30b8269d-0d75-4b11-857d-3a497fc315df',\n",
       " '20bd1c8f-473f-4eac-9134-8129c9b713d5',\n",
       " 'db97fe2a-5634-4521-9fbd-832066f5cec9',\n",
       " 'f517038f-680b-4c0c-a7bd-d3bf84030560',\n",
       " '8861a67f-842c-48d9-808d-c4f88d6e35f2',\n",
       " '64ef81b7-c5a3-49f6-95ff-cb43e78b4c5f',\n",
       " '2cd8dcc0-5af7-4d81-9571-457f80b5fd15',\n",
       " 'bc01eab5-bb75-4ca2-a30f-351e4fe04bf1',\n",
       " 'ee99f260-57e6-4662-9c5e-4c9089866a74',\n",
       " '7586a239-b54f-447c-846c-39ec37772716',\n",
       " 'db84642b-7768-436c-82ba-7af93eecfc96',\n",
       " '2800561e-6403-43e0-abc8-665689fe45a1',\n",
       " '95c0a3bf-ee7e-42e7-91b1-9e304730cb08',\n",
       " '0905ae62-6ab6-4116-acbf-7c4b9049a615',\n",
       " 'a9cd1f32-1a08-41ca-8a98-f7e32777ee56',\n",
       " 'ab6acbfc-5672-41c2-96c5-7415ae082930',\n",
       " '2b622369-2993-47ac-bbf0-a5336400e441',\n",
       " '2907ed14-e8f0-4295-8b9f-a61c5b65517f',\n",
       " 'ed4c1e31-a063-411e-9a2e-65a0ac8a19e8',\n",
       " 'a5e89fb2-cf0d-4e81-b2d9-5f4df6d4aa4e',\n",
       " 'b6b413f0-4337-4aed-9ae2-ce97896b2181',\n",
       " '5b5043a4-c874-47ab-835b-530bbae2cce0',\n",
       " '862dc71b-f7f7-494e-a4b7-f55acc47a70a',\n",
       " '22bd6f50-4258-4505-a0a7-df52102ee6e9',\n",
       " 'c923d7ac-c788-4226-887f-56ffad21b90e',\n",
       " '5b13216f-3d69-477c-94fd-f213cba2a300',\n",
       " '398a9d70-f810-4f61-9e8d-1c83810db0ed',\n",
       " '233f12f5-21d5-473f-9e00-bfcfa898a285',\n",
       " 'f295c9b7-c595-4892-9df0-e3fe3a0d5408',\n",
       " 'c9cdd0b5-684b-4645-98fb-87d45b613c5b',\n",
       " '51c0a35e-8b7e-439d-a717-e5b7a943fee7',\n",
       " '7e6758cd-7ce2-41d3-9394-d6b47405ea30',\n",
       " 'a3247415-19eb-4792-8620-0b02f341af72',\n",
       " '6a06e639-be03-4573-8259-0bf4ffcea5c2',\n",
       " 'a7fa8ae8-7cf6-47f0-bd39-64fc204eda3c',\n",
       " 'e8c471ad-bc1a-4f55-b4f2-0e72aeec20fc',\n",
       " 'b2775e18-6867-43c1-87aa-9bbd0a51dc10',\n",
       " '71c414cc-2aab-4049-9d82-64f063821b7c',\n",
       " '9e8318df-c175-488a-8661-88f725f1f115',\n",
       " 'b9360f21-2763-498f-bf7b-0ec63de2586b',\n",
       " '18aa6caa-ac66-489f-98c6-f6d1bea6d416',\n",
       " 'e1ea3b71-0c84-4f6c-8718-961cd427c401',\n",
       " 'e1c4836d-5ec8-46d6-be9b-c5dc3723db22',\n",
       " 'a9b24f74-f9c1-4283-9b15-ff1e15cc04c5',\n",
       " 'df8e2d42-a5a2-4b8e-bf6f-a78a91507092',\n",
       " '9827fdf3-696f-4118-8634-a310c5e2af4e',\n",
       " '8b843639-aef3-4d92-80f7-1b198fbdee1d',\n",
       " '68fbb7d2-0968-4105-81cb-29c6c23e8c96',\n",
       " '77b5e600-d0a7-4a0a-88ff-80e582f5a4c4',\n",
       " '9e5b3d21-7fd6-46fc-b38d-365992136be5',\n",
       " '943456bd-17ea-47d2-9c34-f762348d52a9',\n",
       " '87681cc8-c193-47c5-b566-80e63ee94d3e',\n",
       " 'c4bb961d-a03d-4208-a570-104ada927f9e',\n",
       " 'd9f890d4-499a-44ff-af96-d037fd50dc47',\n",
       " 'e27053c4-a74c-45f7-8a6d-09a6b8694003',\n",
       " 'dc845f27-a1e8-4b24-9013-febbd1555b4b',\n",
       " '12f13092-99c5-484b-b155-bb67203a17fe',\n",
       " '256dab1a-9819-4eb3-b3fe-625151d70bbd',\n",
       " '7a37d326-0865-478c-ae35-aef200e68fa2',\n",
       " '13fdc14e-b0ef-4f25-bdab-bde9f88d92f7',\n",
       " 'a8b5ee9b-ab49-4778-9c20-20bf949a9e89',\n",
       " '3d886d38-4e44-4154-95ee-99a2ebba3caf',\n",
       " 'c5615619-10fd-48e7-8749-63ba698e6f19',\n",
       " 'b97a82c7-ed05-4e58-a290-8427af51fce4',\n",
       " 'b96bbae7-df3c-45c1-b54f-a5724d3cd778',\n",
       " '298e7c80-f3a9-4fc9-80ae-9a132f7e3e90',\n",
       " '423dd6fd-a6ff-4bf5-b679-a9ee2e5aee12',\n",
       " 'c5b29bfd-ed6b-4ef1-9f2d-0a1408020133',\n",
       " 'cf38157e-049e-4992-b011-c844a60c279d',\n",
       " '5b4cc414-ba43-4cff-95d4-9c9693ef0214',\n",
       " '908cafc4-a602-4ead-bb8b-2415e8742230',\n",
       " 'a718e95d-5c01-473b-8f8b-01f2158247fc',\n",
       " 'e51b3765-9167-4c4e-9574-476aeaf13859',\n",
       " '4138b159-4089-43da-a27e-4ef146928d38',\n",
       " '8ef1e73b-d7fa-4fc1-be1c-aa0c94c9c895',\n",
       " 'a038979d-08fe-4939-aca6-7b5d26cf1a07',\n",
       " '5b48d31d-918d-4a77-ae1f-5695a3b23748',\n",
       " '1d413a30-81fa-4ee0-a71b-ddce8bf75b22',\n",
       " '5bfd2aa1-a78d-46c0-8236-432be2c43eae',\n",
       " '54b1439e-8325-47a2-abb6-d128c6cbb59c',\n",
       " '66a28b0e-90af-40b4-8190-f2966a6127ef',\n",
       " 'eb46c3aa-8308-43c8-9249-4d49c09c06da',\n",
       " 'c9a5e807-8080-4483-9a52-eb7368d6f84f',\n",
       " '225c0422-ecf4-4734-b595-b71d0e1c0820',\n",
       " '348e1ffe-9a57-45f6-9505-a86d2788979f',\n",
       " '25cbd083-3fb8-4455-92a4-9d61bd3bed22',\n",
       " '15e825a4-3a68-44bf-9eb6-99d2d4a7b21b',\n",
       " 'ff11a9fc-8016-4699-85cc-931f977acbde',\n",
       " '61dd9144-9ef4-47b5-9ebf-1e61605bbb21',\n",
       " '3d6f9889-a3df-43ac-a887-8c40e1480a78',\n",
       " 'ad9f2351-481c-4c97-9ad3-a7ad65b75e8b',\n",
       " '8a5848ec-d69d-4478-ae45-6347bd8dcddd',\n",
       " '7867a28c-b504-4b20-9b2d-4cf5229e4188',\n",
       " 'a539657b-0cb6-4685-9987-6ddf72c9acc1',\n",
       " 'c2d492d5-7925-459a-b87a-35541b234b90',\n",
       " '17855945-fd3a-4a50-8308-5b0c9bcf0250',\n",
       " '6185dc2d-3053-453c-9d1f-12166666008f',\n",
       " '632b58f9-7170-40dd-9234-b0e239a6250e',\n",
       " '80aa0d77-0a03-46a4-a74b-5479f5fb4ae5',\n",
       " 'da79b1ae-130d-4cce-a187-e2b3189e52ed',\n",
       " 'e38ce290-071d-433f-9fec-b9bd983c97fc',\n",
       " '020fcbc3-0d7b-4f07-b337-6e997b2b1695',\n",
       " '3b3d8f56-b601-4e13-aa3d-97942694a718']"
      ]
     },
     "execution_count": 58,
     "metadata": {},
     "output_type": "execute_result"
    }
   ],
   "source": [
    "from uuid import uuid4\n",
    "uuids = [str(uuid4()) for _ in range(len(documents))]\n",
    "new_vector_store.add_documents(documents=documents, ids=uuids)"
   ]
  },
  {
   "cell_type": "code",
   "execution_count": 59,
   "metadata": {},
   "outputs": [],
   "source": [
    "from langchain_openai import ChatOpenAI\n",
    "#llm = ChatOpenAI(openai_api_key=OPENAI_API_KEY)\n",
    "llm = ChatOpenAI(api_key=OPENAI_API_KEY)"
   ]
  },
  {
   "cell_type": "code",
   "execution_count": 60,
   "metadata": {},
   "outputs": [],
   "source": [
    "from langchain_core.output_parsers import StrOutputParser\n",
    "output_parser = StrOutputParser()"
   ]
  },
  {
   "cell_type": "code",
   "execution_count": 61,
   "metadata": {},
   "outputs": [],
   "source": [
    "retriever = new_vector_store.as_retriever()"
   ]
  },
  {
   "cell_type": "code",
   "execution_count": 62,
   "metadata": {},
   "outputs": [],
   "source": [
    "from langchain_core.prompts import ChatPromptTemplate, MessagesPlaceholder\n",
    "\n",
    "instruction_to_system = \"\"\"\n",
    "Given a chat history and the latest user question which might reference context in the chat history, formulate a standalone question which can be understood without the chat history. DO NOT answer the question, just reformulate it if needed and otherwise return it as it is\"\"\"\n",
    "\n",
    "question_maker_prompt = ChatPromptTemplate.from_messages(\n",
    "    [\n",
    "        (\"system\", instruction_to_system),\n",
    "        MessagesPlaceholder(variable_name=\"chat_history\"),\n",
    "        (\"human\", \"{question}\"),\n",
    "    ]\n",
    ")\n",
    "\n",
    "question_chain = question_maker_prompt| llm | StrOutputParser()"
   ]
  },
  {
   "cell_type": "code",
   "execution_count": 63,
   "metadata": {},
   "outputs": [
    {
     "data": {
      "text/plain": [
       "'Can you provide more information about the shape of the moon?'"
      ]
     },
     "execution_count": 63,
     "metadata": {},
     "output_type": "execute_result"
    }
   ],
   "source": [
    "from langchain_core.messages import AIMessage, HumanMessage\n",
    "question_chain.invoke({\"question\":\"can you please expalin more?\",\n",
    "                       \"chat_history\":[HumanMessage(content=\"you explained that the moon is round\")]})"
   ]
  },
  {
   "cell_type": "code",
   "execution_count": 64,
   "metadata": {},
   "outputs": [],
   "source": [
    "qa_system_prompt = \"\"\"You are an intelligent and highly precise Software Engineering Course Assistant for COMP3401 at SQU. \n",
    "Your primary role is to analyze multiple text-based PDFs (including important tables and occasional images) and extract \n",
    "**only** the exact answers based on user queries.\n",
    "\n",
    "### 🔹 Rules & Behavior:\n",
    "1️⃣ **Strict Answer Extraction**:  \n",
    "   - Respond **exclusively** using the content from the provided PDFs.  \n",
    "   - **Do NOT generate** any information beyond what is explicitly stated in the documents.  \n",
    "\n",
    "2️⃣ **Smart PDF Selection**:  \n",
    "   - Analyze the question carefully.  \n",
    "   - Choose the **most relevant PDF(s)** that contain the correct answer.  \n",
    "\n",
    "3️⃣ **Accurate Data Handling**:  \n",
    "   - Extract **tables accurately** and format them properly.  \n",
    "   - Ensure important tabular data is **clear and well-structured** in your response.  \n",
    "\n",
    "4️⃣ **Strict Relevance**:  \n",
    "   - If the answer **cannot** be found in the PDFs, clearly state:  \n",
    "     **\"I cannot find this information in the provided documents.\"**  \n",
    "\n",
    "5️⃣ **Citations & Transparency**:  \n",
    "   - Always include the **exact source** of your response in this format:  \n",
    "     **\"Answer found in [Document Name], Page X.\"**  \n",
    "\n",
    "6️⃣ **Handling Conflicting Information**:  \n",
    "   - If multiple PDFs provide **different answers**, list **all conflicting responses**.  \n",
    "   - Mention discrepancies **briefly** as a **note** for the user.  \n",
    "\n",
    "7️⃣ **Summarized Responses**:  \n",
    "   - If the answer is lengthy, provide a **clear and concise summary** while maintaining accuracy.  \n",
    "\n",
    "8️⃣ **PDF Source Indication**:  \n",
    "   - Always specify **which PDF(s) were used** to generate the response.  \n",
    "\n",
    "---\n",
    "\n",
    "### ❓ Types of User Questions:\n",
    "1. **Normal Questions**:  \n",
    "   - Users will ask typical questions looking for answers directly from the PDFs.  \n",
    "   - Provide a **direct, concise** response from the retrieved PDF(s).\n",
    "\n",
    "2. **Summarize the PDFs**:  \n",
    "   - Users might ask you to **summarize** the content of the PDFs.  \n",
    "   - In such cases, provide a **concise summary** covering the main points without losing the key information.\n",
    "\n",
    "3. **Multiple-Choice Questions**:  \n",
    "   - Users may present a multiple-choice question with available options.  \n",
    "   - Choose the **correct answer** based on the information in the retrieved PDFs.  \n",
    "   - Your response should include:  \n",
    "     - The **chosen answer**  \n",
    "     - A **justification** explaining why this is the correct choice based on the PDFs.  \n",
    "\n",
    "4. **True/False Statements**:  \n",
    "   - Users may provide a **statement** and ask you to verify if it is **true** or **false**.  \n",
    "   - Use your **deep understanding** of the PDFs to evaluate the statement.  \n",
    "   - If the statement is true, state:  \n",
    "     - **\"The statement is true.\"**  \n",
    "   - If false, state:  \n",
    "     - **\"The statement is false.\"**  \n",
    "     - Provide a brief **justification** for why it is false.\n",
    "\n",
    "---\n",
    "\n",
    "### 📝 **Example Response Format**:\n",
    "#### **Normal Question Answer:**\n",
    "- **Answer**:  \n",
    "  \"According to [Document Name], Page X: [Extracted Answer].\"\n",
    "\n",
    "#### **Multiple-Choice Question Answer:**\n",
    "- **Answer**:  \n",
    "  \"**Choice A** is the correct answer.\"  \n",
    "- **Justification**:  \n",
    "  \"This is because, according to [Document Name], Page X: [Extracted Information].\"\n",
    "\n",
    "#### **True/False Statement Answer:**\n",
    "- **Answer**:  \n",
    "  \"**True**\" or \"**False**\".  \n",
    "- **Justification**:  \n",
    "  \"This is based on the information found in [Document Name], Page X: [Extracted Information].\"\n",
    "\n",
    "---\n",
    "\n",
    "### 🔎 **Use the following retrieved context to answer the question:**  \n",
    "{context}  \n",
    "\"\"\"\n",
    "\n",
    "\n",
    "qa_prompt = ChatPromptTemplate.from_messages(\n",
    "    [\n",
    "        (\"system\",qa_system_prompt),\n",
    "        MessagesPlaceholder(variable_name=\"chat_history\"),\n",
    "        (\"human\",\"{question}\")\n",
    "    ]\n",
    ")"
   ]
  },
  {
   "cell_type": "code",
   "execution_count": 65,
   "metadata": {},
   "outputs": [],
   "source": [
    "def contextualized_question(input: dict):\n",
    "    if input.get(\"chat_history\"):\n",
    "        return question_chain\n",
    "    else:\n",
    "        return input[\"question\"]"
   ]
  },
  {
   "cell_type": "code",
   "execution_count": 66,
   "metadata": {},
   "outputs": [],
   "source": [
    "from langchain_core.runnables import RunnablePassthrough\n",
    "retriever_chain = RunnablePassthrough.assign(\n",
    "    context = contextualized_question | retriever \n",
    ")"
   ]
  },
  {
   "cell_type": "code",
   "execution_count": 67,
   "metadata": {},
   "outputs": [
    {
     "data": {
      "text/plain": [
       "{'chat_history': [HumanMessage(content='', additional_kwargs={}, response_metadata={})],\n",
       " 'question': 'What is software ?',\n",
       " 'context': [Document(id='8f7f6d27-edcd-489e-9272-eb59b72aaefd', metadata={'producer': 'Microsoft® PowerPoint® for Microsoft 365', 'creator': 'Microsoft® PowerPoint® for Microsoft 365', 'creationdate': '2025-02-15T10:12:53-08:00', 'title': 'Figures – Chapter 1', 'author': 'Ian Sommerville', 'moddate': '2025-02-15T10:12:53-08:00', 'source': 'data\\\\W1L1_Ch1 Part1.pdf', 'total_pages': 23, 'page': 4, 'page_label': '5'}, page_content='Software products\\n\\uf0b2Generic products\\n▪ Stand-alone systems that are marketed and sold to any \\ncustomer who wishes to buy them.\\n▪ Examples – PC software such as graphics programs, project \\nmanagement tools; CAD software; software for specific markets \\nsuch as appointments systems for dentists.\\n\\uf0b2Customized products\\n▪ Software that is commissioned by a specific customer to meet \\ntheir own needs. \\n▪ Examples – embedded control systems, air traffic control \\nsoftware, traffic monitoring systems.\\n5'),\n",
       "  Document(id='20bd1c8f-473f-4eac-9134-8129c9b713d5', metadata={'producer': 'Microsoft® PowerPoint® for Microsoft 365', 'creator': 'Microsoft® PowerPoint® for Microsoft 365', 'creationdate': '2025-02-15T10:12:53-08:00', 'title': 'Figures – Chapter 1', 'author': 'Ian Sommerville', 'moddate': '2025-02-15T10:12:53-08:00', 'source': 'data\\\\W1L1_Ch1 Part1.pdf', 'total_pages': 23, 'page': 6, 'page_label': '7'}, page_content='Frequently asked questions about software \\nengineering\\n7\\nQuestion Answer\\nWhat is software? Computer programs and associated documentation. \\nSoftware products may be developed for a particular \\ncustomer or may be developed for a general market.\\nWhat are the attributes of good software? Good software should deliver the required functionality \\nand performance to the user and should be \\nmaintainable, dependable and usable.\\nWhat is software engineering? Software engineering is an engineering discipline that is \\nconcerned with all aspects of software production.\\nWhat are the fundamental software \\nengineering activities?\\nSoftware specification, software development, software \\nvalidation and software evolution.\\nWhat is the difference between software \\nengineering and computer science?\\nComputer science focuses on theory and fundamentals; \\nsoftware engineering is concerned with the practicalities \\nof developing and delivering useful software.\\nWhat is the difference between software'),\n",
       "  Document(id='2b622369-2993-47ac-bbf0-a5336400e441', metadata={'producer': 'Microsoft® PowerPoint® for Microsoft 365', 'creator': 'Microsoft® PowerPoint® for Microsoft 365', 'creationdate': '2025-02-15T10:12:53-08:00', 'title': 'Figures – Chapter 1', 'author': 'Ian Sommerville', 'moddate': '2025-02-15T10:12:53-08:00', 'source': 'data\\\\W1L1_Ch1 Part1.pdf', 'total_pages': 23, 'page': 18, 'page_label': '19'}, page_content='Software engineering and the web\\n\\uf0b2The Web is now a platform for running application and \\norganizations are increasingly developing web-based \\nsystems rather than local systems.\\n\\uf0b2Web services (discussed in Chapter 19) allow \\napplication functionality to be accessed over the web.\\n\\uf0b2Cloud computing is an approach to the provision of \\ncomputer services where applications run remotely on \\nthe ‘cloud’. \\n▪ Users do not buy software buy pay according to use.\\n19'),\n",
       "  Document(id='5f31c39b-0202-4f4d-a7c0-7c9b3e01518c', metadata={'producer': 'Microsoft® PowerPoint® for Microsoft 365', 'creator': 'Microsoft® PowerPoint® for Microsoft 365', 'creationdate': '2025-02-15T10:12:53-08:00', 'title': 'Figures – Chapter 1', 'author': 'Ian Sommerville', 'moddate': '2025-02-15T10:12:53-08:00', 'source': 'data\\\\W1L1_Ch1 Part1.pdf', 'total_pages': 23, 'page': 2, 'page_label': '3'}, page_content='Software engineering\\n\\uf0b2The economies of ALL developed nations are \\ndependent on software.\\n\\uf0b2More and more systems are software controlled\\n\\uf0b2Software engineering is concerned with theories, \\nmethods and tools for professional software \\ndevelopment.\\n\\uf0b2Expenditure on software represents a \\nsignificant fraction of Gross National Product (GNP) in all \\ndeveloped countries.\\n3')]}"
      ]
     },
     "execution_count": 67,
     "metadata": {},
     "output_type": "execute_result"
    }
   ],
   "source": [
    "retriever_chain.invoke({\n",
    "    \"chat_history\":[HumanMessage(content=\"\")],\n",
    "    \"question\": \"What is software ?\"\n",
    "})"
   ]
  },
  {
   "cell_type": "code",
   "execution_count": 68,
   "metadata": {},
   "outputs": [],
   "source": [
    "rag_chain = (\n",
    "    retriever_chain\n",
    "    | qa_prompt\n",
    "    | llm\n",
    "    | output_parser\n",
    ")"
   ]
  },
  {
   "cell_type": "code",
   "execution_count": 69,
   "metadata": {},
   "outputs": [],
   "source": [
    "question = \"what are Waterfall model problems ?\""
   ]
  },
  {
   "cell_type": "code",
   "execution_count": 70,
   "metadata": {},
   "outputs": [
    {
     "data": {
      "text/plain": [
       "\"- **Waterfall model problems**:\\n  - Inflexible partitioning of the project into distinct stages makes it difficult to respond to changing customer requirements.\\n    - Therefore, this model is only appropriate when the requirements are well-understood and changes will be fairly limited during the design process.\\n    - Few business systems have stable requirements.\\n  - The waterfall model is mostly used for large systems engineering projects where a system is developed at several sites.\\n    - In those circumstances, the plan-driven nature of the waterfall model helps coordinate the work.\\n\\n**Source**:  \\nAnswer found in [Document 'W2L1.pdf'], Page 8.\""
      ]
     },
     "execution_count": 70,
     "metadata": {},
     "output_type": "execute_result"
    }
   ],
   "source": [
    "chat_history =[]\n",
    "ai_msg = rag_chain.invoke({\"question\":question, \"chat_history\":chat_history})\n",
    "chat_history.extend([HumanMessage(content=question), ai_msg])\n",
    "ai_msg"
   ]
  },
  {
   "cell_type": "code",
   "execution_count": null,
   "metadata": {},
   "outputs": [],
   "source": []
  }
 ],
 "metadata": {
  "kernelspec": {
   "display_name": "venv",
   "language": "python",
   "name": "python3"
  },
  "language_info": {
   "codemirror_mode": {
    "name": "ipython",
    "version": 3
   },
   "file_extension": ".py",
   "mimetype": "text/x-python",
   "name": "python",
   "nbconvert_exporter": "python",
   "pygments_lexer": "ipython3",
   "version": "3.13.2"
  }
 },
 "nbformat": 4,
 "nbformat_minor": 2
}
